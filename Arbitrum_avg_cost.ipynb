{
 "cells": [
  {
   "cell_type": "code",
   "execution_count": 1,
   "id": "796b601a",
   "metadata": {},
   "outputs": [],
   "source": [
    "import urllib3\n",
    "from bs4 import BeautifulSoup\n",
    "import numpy as np\n",
    "import time, datetime\n",
    "import matplotlib.pyplot as plt"
   ]
  },
  {
   "cell_type": "markdown",
   "id": "6c04c13e",
   "metadata": {},
   "source": [
    "We get the transaction data from https://arbiscan.io/txs via html extraction, since the API is rather bad."
   ]
  },
  {
   "cell_type": "code",
   "execution_count": 2,
   "id": "e8e7851e",
   "metadata": {},
   "outputs": [],
   "source": [
    "# We get the first page with the most recent data\n",
    "http = urllib3.PoolManager()\n",
    "url = 'https://arbiscan.io/txs'\n",
    "resp = http.request('GET', url)\n",
    "arr = [resp.data]\n",
    "# At most 4 req a second.\n",
    "time.sleep(0.25)\n",
    "\n",
    "# The amount of pages. Since backlog is around 2 weeks it's best to take at least 14\n",
    "page_amt = 14\n",
    "pages_per_page = 5\n",
    "page_lmt = 9998 - pages_per_page\n",
    "step_size = int(page_lmt/page_amt)\n",
    "for i in range(1,page_amt+1):\n",
    "    for j in range(pages_per_page):\n",
    "        url = 'https://arbiscan.io/txs?p=' + str(step_size*i + j)\n",
    "        resp = http.request('GET', url)\n",
    "        arr.append(resp.data)\n",
    "        time.sleep(0.25)"
   ]
  },
  {
   "cell_type": "markdown",
   "id": "a5c51e72",
   "metadata": {},
   "source": [
    "We parse the data into an array of transaction costs and dates."
   ]
  },
  {
   "cell_type": "code",
   "execution_count": 3,
   "id": "353b93d4",
   "metadata": {},
   "outputs": [],
   "source": [
    "def get_costs(soup):\n",
    "    txCosts = soup.find_all(class_='small text-secondary')[1:]\n",
    "    amt = len(txCosts)\n",
    "    for i in range(amt):\n",
    "        # We cut off everything until the first number\n",
    "        txCosts[i] = str(txCosts[i])[35:]\n",
    "        res = ''\n",
    "        for char in txCosts[i]:\n",
    "            if char.isnumeric() or (char == '.'):\n",
    "                res += char\n",
    "            # We're already inside the end span\n",
    "            elif char == 's':\n",
    "                break\n",
    "        txCosts[i] = float(res)\n",
    "    # We could also take the average around the median.\n",
    "    # txCosts = np.sort(txCosts)[15:-15]\n",
    "    return np.mean(txCosts)"
   ]
  },
  {
   "cell_type": "code",
   "execution_count": 4,
   "id": "d26329bf",
   "metadata": {},
   "outputs": [],
   "source": [
    "def get_dates(soup):\n",
    "    txDate = soup.find_all(class_='showAge')\n",
    "    txDate[24] = str(txDate[24])[102:121]\n",
    "    # We turn the time string into a datetime object\n",
    "    pos = 0\n",
    "    res = ''\n",
    "    arr = np.zeros(6)\n",
    "    for char in txDate[24]:\n",
    "        if char.isnumeric():\n",
    "            res += char\n",
    "        else:\n",
    "            arr[pos] = res\n",
    "            res = ''\n",
    "            pos += 1\n",
    "    Date = datetime.datetime(int(arr[0]), int(arr[1]), int(arr[2]), int(arr[3]), int(arr[4]), int(arr[5]))\n",
    "    return Date"
   ]
  },
  {
   "cell_type": "code",
   "execution_count": 5,
   "id": "5a87d782",
   "metadata": {},
   "outputs": [],
   "source": [
    "# We turn the array into average dates and costs\n",
    "dates = np.array([])\n",
    "costs = np.array([])\n",
    "for page in arr:\n",
    "    soup = BeautifulSoup(page,'html.parser')\n",
    "    dates = np.append(dates, get_dates(soup))\n",
    "    costs = np.append(costs, get_costs(soup))"
   ]
  },
  {
   "cell_type": "code",
   "execution_count": 10,
   "id": "0162bc3a",
   "metadata": {},
   "outputs": [],
   "source": [
    "# We average the days together\n",
    "temp_costs = np.zeros(page_amt)\n",
    "temp_dates = np.array([])\n",
    "for i in range(page_amt):\n",
    "    idx = i*pages_per_page\n",
    "    temp_costs[i] = np.mean(costs[idx:idx+pages_per_page])\n",
    "    temp_dates = np.append(temp_dates, dates[idx+int(pages_per_page/2)])\n",
    "costs = temp_costs\n",
    "dates = temp_dates"
   ]
  },
  {
   "cell_type": "code",
   "execution_count": 84,
   "id": "b37bc3a0",
   "metadata": {},
   "outputs": [
    {
     "name": "stdout",
     "output_type": "stream",
     "text": [
      "Average transaction price in arbitrum: \n"
     ]
    },
    {
     "data": {
      "image/png": "[encoded data removed]",
      "text/plain": [
       "<Figure size 432x288 with 1 Axes>"
      ]
     },
     "metadata": {
      "needs_background": "light"
     },
     "output_type": "display_data"
    }
   ],
   "source": [
    "print(\"Average transaction price in arbitrum: \")\n",
    "plt.ylim((0, np.max(costs)*1.25))\n",
    "plt.ylabel('Price in ETH')\n",
    "plt.xlabel('Date')\n",
    "plt.xticks(rotation=-45)\n",
    "plt.plot(dates, costs, 'b-', label=\"Avg. Tx Fees in Arb.\")\n",
    "plt.tight_layout()\n",
    "plt.legend()\n",
    "plt.savefig('./report/Pictures/arb_avg_eth.png')\n",
    "plt.show()"
   ]
  },
  {
   "cell_type": "code",
   "execution_count": 12,
   "id": "008a8c94",
   "metadata": {},
   "outputs": [],
   "source": [
    "import cryptocompare\n",
    "import pandas as pd\n",
    "import requests\n",
    "import csv"
   ]
  },
  {
   "cell_type": "code",
   "execution_count": 13,
   "id": "3a3600e5",
   "metadata": {},
   "outputs": [],
   "source": [
    "prices = []\n",
    "for date in dates:\n",
    "    prices.append(cryptocompare.get_historical_price('ETH', 'USD', date)['ETH']['USD'])"
   ]
  },
  {
   "cell_type": "code",
   "execution_count": 83,
   "id": "e6ac3e30",
   "metadata": {
    "scrolled": true
   },
   "outputs": [
    {
     "data": {
      "image/png": "[encoded data removed]",
      "text/plain": [
       "<Figure size 432x288 with 1 Axes>"
      ]
     },
     "metadata": {
      "needs_background": "light"
     },
     "output_type": "display_data"
    }
   ],
   "source": [
    "usd_costs = np.multiply(prices, costs)\n",
    "plt.ylim((0, np.max(usd_costs)*1.25))\n",
    "plt.xticks(rotation=-45)\n",
    "plt.ylabel('Price in $')\n",
    "plt.xlabel('Date')\n",
    "plt.plot(dates, usd_costs,'b-', label=\"Avg. Tx Fees in Arb.\")\n",
    "plt.tight_layout()\n",
    "plt.legend()\n",
    "plt.savefig('./report/Pictures/arb_avg_usd.png')\n",
    "plt.show()"
   ]
  },
  {
   "cell_type": "code",
   "execution_count": 52,
   "id": "29b84b56",
   "metadata": {},
   "outputs": [],
   "source": [
    "# You must download a csv with past ethereum transactions to compare from:\n",
    "# url = 'https://messari.io/asset/ethereum/historical'\n",
    "csv = pd.read_csv('./eth.csv')"
   ]
  },
  {
   "cell_type": "code",
   "execution_count": 53,
   "id": "abaef9bf",
   "metadata": {},
   "outputs": [],
   "source": [
    "# df 'Date(UTC)', 'Average Txn Fee (USD)'\n",
    "eth_dates = np.array(csv['Date'])\n",
    "eth_costs = np.array(csv['Average Transaction Fees'])\n",
    "\n",
    "size = len(dates)\n",
    "eth_comp = np.zeros(size)\n",
    "# We get the average prices for the given dates\n",
    "for i in range(size):\n",
    "    date_str = dates[i].strftime(\"%Y-%m-%d\")\n",
    "    #In case date is sooner than first value.\n",
    "    eth_comp[i] = eth_costs[0]\n",
    "    for j in range(len(eth_dates)):\n",
    "        if date_str == eth_dates[j]:\n",
    "            eth_comp[i] = eth_costs[j]"
   ]
  },
  {
   "cell_type": "code",
   "execution_count": 62,
   "id": "6aef206f",
   "metadata": {},
   "outputs": [],
   "source": [
    "# Calculate small moving average to make the graph nicer\n",
    "d = pd.Series(eth_comp)\n",
    "avg_eth_comp = d.rolling(2).mean()\n",
    "avg_eth_comp[0] = eth_comp[0]\n",
    "avg_eth_comp[1] = eth_comp[1]\n",
    "\n",
    "d = pd.Series(usd_costs)\n",
    "avg_usd_comp = usd_costs"
   ]
  },
  {
   "cell_type": "code",
   "execution_count": 85,
   "id": "760c2fba",
   "metadata": {},
   "outputs": [
    {
     "data": {
      "image/png": "[encoded data removed]",
      "text/plain": [
       "<Figure size 432x288 with 1 Axes>"
      ]
     },
     "metadata": {
      "needs_background": "light"
     },
     "output_type": "display_data"
    }
   ],
   "source": [
    "# Finally we plot both values in USD into a plot.\n",
    "plt.ylim((0, np.max(avg_eth_comp)+2))\n",
    "plt.xticks(rotation=-45)\n",
    "plt.ylabel('Price in $')\n",
    "plt.xlabel('date')\n",
    "plt.plot(dates, avg_eth_comp,'m-', label=\"Ethereum Fees\")\n",
    "plt.plot(dates, avg_usd_comp,'b-', label=\"Arbitrum Fees\")\n",
    "plt.tight_layout()\n",
    "plt.legend()\n",
    "plt.savefig('./report/Pictures/arb_eth_fees.png')\n",
    "plt.show()"
   ]
  },
  {
   "cell_type": "markdown",
   "id": "3c82b01f",
   "metadata": {},
   "source": [
    "Lastly A table to compare how much cheaper arbitrum is to ethereum"
   ]
  },
  {
   "cell_type": "code",
   "execution_count": 57,
   "id": "879a05a9",
   "metadata": {},
   "outputs": [
    {
     "data": {
      "image/png": "[encoded data removed]",
      "text/plain": [
       "<Figure size 432x288 with 1 Axes>"
      ]
     },
     "metadata": {
      "needs_background": "light"
     },
     "output_type": "display_data"
    }
   ],
   "source": [
    "plt.ylim((0, 1))\n",
    "plt.xticks(rotation=-45)\n",
    "plt.ylabel('% saved')\n",
    "plt.xlabel('date')\n",
    "comp = 1-np.divide(avg_usd_comp, avg_eth_comp)\n",
    "plt.plot(dates, comp,'m-')\n",
    "plt.show()"
   ]
  },
  {
   "cell_type": "code",
   "execution_count": null,
   "id": "7d0f4984",
   "metadata": {},
   "outputs": [],
   "source": []
  }
 ],
 "metadata": {
  "kernelspec": {
   "display_name": "Python 3 (ipykernel)",
   "language": "python",
   "name": "python3"
  },
  "language_info": {
   "codemirror_mode": {
    "name": "ipython",
    "version": 3
   },
   "file_extension": ".py",
   "mimetype": "text/x-python",
   "name": "python",
   "nbconvert_exporter": "python",
   "pygments_lexer": "ipython3",
   "version": "3.8.12"
  }
 },
 "nbformat": 4,
 "nbformat_minor": 5
}
